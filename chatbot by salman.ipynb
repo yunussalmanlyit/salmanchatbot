{
 "cells": [
  {
   "cell_type": "code",
   "execution_count": 1,
   "metadata": {},
   "outputs": [
    {
     "name": "stdout",
     "output_type": "stream",
     "text": [
      "BOT : What do you want me to call you? \n",
      "salman\n"
     ]
    }
   ],
   "source": [
    "print(\"BOT : What do you want me to call you? \")\n",
    "user_name = input()"
   ]
  },
  {
   "cell_type": "code",
   "execution_count": 2,
   "metadata": {},
   "outputs": [],
   "source": [
    "bot_template = \"BOT  {0}\"\n",
    "user_template = user_name + \" : {0}\""
   ]
  },
  {
   "cell_type": "code",
   "execution_count": 3,
   "metadata": {},
   "outputs": [],
   "source": [
    "name = \"bot\"\n",
    "weather = \"rainy\"\n",
    "mood = \"Happy\"\n",
    "\n",
    "responses = {\n",
    "    \n",
    "    \"what's your name?\": [\n",
    "        \"They call me {0}\".format(name),\n",
    "        \"I usually go by {0}\".format(name),\n",
    "        \"my name is the {0}\".format(name)\n",
    "    ],\n",
    "    \n",
    "    \"what's the weather today?\": [\n",
    "        \"The weather is {0}\".format(weather),\n",
    "        \"It's {0} today\". format(weather),\n",
    "        \"let me check, it looks {0} today, carry a umbrella\".format(weather)\n",
    "    ],\n",
    "    \n",
    "    \"Are you a robot?\": [\n",
    "        \"What do you think?\",\n",
    "        \"May be yes, May be No!\",\n",
    "        \"Yes, Iam a robot with human feelings.\",\n",
    "    ],\n",
    "    \n",
    "    \"How are you?\": [\n",
    "        \"Iam feeling {0}\". format(mood),\n",
    "        \"{0}! How about you?\".format(mood),\n",
    "        \"I am {0}! How about yourself?\". format(mood),\n",
    "    ],\n",
    "    \n",
    "    \"\": [\n",
    "        \"Hey! Are you there?\",\n",
    "        \"What do you mean by say nothing?\",\n",
    "        \"sometimes saying nothing says a lot :)\",\n",
    "    ],\n",
    "    \"Tell me a joke?\": [\n",
    "        \"Don't use beef stew as a computer password. It's not stroganoff.\",\n",
    "        \"I can, but i want to hear a joke from you!\",\n",
    "    ],\n",
    "    \"can you sing?\": [\n",
    "        \"I can but you cant hear, you can only see the lyrics!\",\n",
    "        \"Everyday in my dreams i see you, i feel you\",\n",
    "    ],\n",
    "    \n",
    "    \n",
    "\"default\" : [\"this is deafult message\"]\n",
    "}"
   ]
  },
  {
   "cell_type": "code",
   "execution_count": 4,
   "metadata": {},
   "outputs": [],
   "source": [
    "import random\n",
    "def respond(message):\n",
    "    \n",
    "    if message in responses:\n",
    "        bot_message = random.choice(responses[message])\n",
    "    else:\n",
    "        bot_message = random.choice(responses[\"default\"])\n",
    "    return bot_message"
   ]
  },
  {
   "cell_type": "code",
   "execution_count": 5,
   "metadata": {},
   "outputs": [],
   "source": [
    "def related(x_text):\n",
    "    if \"name\" in x_text:\n",
    "        y_text = \"what's your name?\"\n",
    "    elif \"weather\" in x_text:\n",
    "        y_text = \"what's the weather today?\"\n",
    "    elif \"robot\" in x_text:\n",
    "        y_text = \"Are you a robot?\"\n",
    "    elif \"how are\" in x_text:\n",
    "        y_text = \"how are you?\"def send_message(message):\n",
    "    print(user_template.format(message))\n",
    "    response = respond(message)\n",
    "    print(bot_template.format(response))\n",
    "    elif \"sing\" in x_text:\n",
    "        y_text = \"can you sing?\"\n",
    "    elif \"joke\" in x_text:\n",
    "        y_text = \"Tell me a joke?\"\n",
    "    else:\n",
    "        y_text = \"\"\n",
    "    return y_text"
   ]
  },
  {
   "cell_type": "code",
   "execution_count": 7,
   "metadata": {},
   "outputs": [],
   "source": [
    "def send_message(message):\n",
    "    print(user_template.format(message))\n",
    "    response = respond(message)\n",
    "    print(bot_template.format(response))"
   ]
  },
  {
   "cell_type": "code",
   "execution_count": null,
   "metadata": {},
   "outputs": [
    {
     "name": "stdout",
     "output_type": "stream",
     "text": [
      "hello\n",
      "salman : \n",
      "BOT  What do you mean by say nothing?\n",
      "joke\n",
      "salman : Tell me a joke?\n",
      "BOT  Don't use beef stew as a computer password. It's not stroganoff.\n",
      "sing\n",
      "salman : can you sing?\n",
      "BOT  I can but you cant hear, you can only see the lyrics!\n",
      "sing\n",
      "salman : can you sing?\n",
      "BOT  Everyday in my dreams i see you, i feel you\n",
      "joke\n",
      "salman : Tell me a joke?\n",
      "BOT  I can, but i want to hear a joke from you!\n"
     ]
    }
   ],
   "source": [
    "while 1:\n",
    "    my_input = input()\n",
    "    my_input = my_input.lower()\n",
    "    related_text = related(my_input)\n",
    "    send_message(related_text)\n",
    "    if my_input == \"exit\" or my_input == \"stop\":\n",
    "        break"
   ]
  }
 ],
 "metadata": {
  "kernelspec": {
   "display_name": "Python 3",
   "language": "python",
   "name": "python3"
  },
  "language_info": {
   "codemirror_mode": {
    "name": "ipython",
    "version": 3
   },
   "file_extension": ".py",
   "mimetype": "text/x-python",
   "name": "python",
   "nbconvert_exporter": "python",
   "pygments_lexer": "ipython3",
   "version": "3.7.4"
  }
 },
 "nbformat": 4,
 "nbformat_minor": 2
}
